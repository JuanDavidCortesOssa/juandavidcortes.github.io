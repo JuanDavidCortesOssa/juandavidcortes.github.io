{
  "nbformat": 4,
  "nbformat_minor": 0,
  "metadata": {
    "colab": {
      "provenance": [],
      "collapsed_sections": [
        "s5hxjX1KAC4j",
        "7fTnpssgF_Kf",
        "8taAxX10IpYi",
        "PTbTBuo9J1MI",
        "Mscaoi4McTXg",
        "jnAkm_pPevNH",
        "ceH05WHmgqeb",
        "ILvvQmH1nI7Y",
        "I-XG9_dzrgr5",
        "5Swx4blO2xqI"
      ]
    },
    "kernelspec": {
      "name": "python3",
      "display_name": "Python 3"
    },
    "language_info": {
      "name": "python"
    }
  },
  "cells": [
    {
      "cell_type": "markdown",
      "source": [
        "#Juan David Cortés Ossa - 2185977\n"
      ],
      "metadata": {
        "id": "keKkTntAIuDB"
      }
    },
    {
      "cell_type": "markdown",
      "source": [
        "#1\n",
        "Imagina que acabas de abrir una nueva cuenta de ahorros que te ofrece el 6.2% de inter´es al a˜no. Estos\n",
        "ahorros debido a intereses, que no se cobran hasta finales de a˜no, se te a˜naden al balance final de tu cuenta\n",
        "de ahorros. Escribir un programa que comience leyendo la cantidad de dinero depositada en la cuenta de\n",
        "ahorros, introducida por el usuario. Despu´es el programa debe calcular y mostrar por pantalla la cantidad\n",
        "de ahorros tras el primer, segundo, y tercer a˜no."
      ],
      "metadata": {
        "id": "s5hxjX1KAC4j"
      }
    },
    {
      "cell_type": "markdown",
      "source": [
        "Para resolver este ejercicio se ejecuta un ciclo for que recorre tantas veces como años de interés se quieran evaluar, en este caso 3. Posteriormente a la cantidad depositada se le añade el 6.2%, lo que es igual a multiplicarlo por 1.062 (100%+6.2%)"
      ],
      "metadata": {
        "id": "dmfRusCiJffr"
      }
    },
    {
      "cell_type": "code",
      "source": [
        "cantidadDepositada = float(input(\"Ingrese la cantidad depositada: \"))\n",
        "\n",
        "for x in range(3):\n",
        "  cantidadDepositada *=  1.062\n",
        "  print(\"Cantidad en el año \" + str(x +1) + \": \" +  str(cantidadDepositada))"
      ],
      "metadata": {
        "colab": {
          "base_uri": "https://localhost:8080/"
        },
        "id": "gWu0cqOZCznH",
        "outputId": "e83d0b62-e4db-4eba-a914-be1f7657868d"
      },
      "execution_count": null,
      "outputs": [
        {
          "output_type": "stream",
          "name": "stdout",
          "text": [
            "Ingrese la cantidad depositada: 300\n",
            "Cantidad en el año 1: 318.6\n",
            "Cantidad en el año 2: 338.3532\n",
            "Cantidad en el año 3: 359.33109840000003\n"
          ]
        }
      ]
    },
    {
      "cell_type": "markdown",
      "source": [
        "#2\n",
        "Escriba un programa que lea un entero positivo, n, del usuario y luego muestre la suma de todos los\n",
        "enteros del 1 al n. La suma de los primeros n enteros positivos se puede calcular mediante la f´ormula:\n",
        "\n",
        "![image.png](data:image/png;base64,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)"
      ],
      "metadata": {
        "id": "7fTnpssgF_Kf"
      }
    },
    {
      "cell_type": "markdown",
      "source": [
        "Este codigo pide un numero entero positivo al usuario y evalua que lo sea con un while, posteriormente aplica la fórmula dada por el ejercicio y retorna."
      ],
      "metadata": {
        "id": "o3zDRlRUKIuJ"
      }
    },
    {
      "cell_type": "code",
      "source": [
        "n = -1\n",
        "while n<1:\n",
        "  n = int(input(\"Ingrese el entero positivo: \"))\n",
        "\n",
        "resultado = n*(n+1)//2\n",
        "print(\"resultado: \" + str(resultado))"
      ],
      "metadata": {
        "colab": {
          "base_uri": "https://localhost:8080/"
        },
        "id": "M53pl59yGLNb",
        "outputId": "b81d6537-ef9a-4e25-b70f-db41d9ef103b"
      },
      "execution_count": null,
      "outputs": [
        {
          "output_type": "stream",
          "name": "stdout",
          "text": [
            "Ingrese el entero positivo: 10\n",
            "resultado: 55\n"
          ]
        }
      ]
    },
    {
      "cell_type": "markdown",
      "source": [
        "#3\n",
        "Escriba un programa que reciba como entrada las longitudes de los dos catetos a y b de un tri´angulo\n",
        "rect´angulo, y que entregue como salida el largo de la hipotenusa c del tri´angulo, dado por el teorema de\n",
        "Pit´agoras: c2 = a2 + b2"
      ],
      "metadata": {
        "id": "8taAxX10IpYi"
      }
    },
    {
      "cell_type": "markdown",
      "source": [
        "El codigo pide la medida de los catetos, y utilizando la librería math calcula la raiz cuadrada de ambos catetos al cuadrado para obtener la hipotenusa."
      ],
      "metadata": {
        "id": "wT-jzPGHLKVH"
      }
    },
    {
      "cell_type": "code",
      "source": [
        "import math\n",
        "\n",
        "a = float(input(\"Ingrese la longitud del cateto a: \"))\n",
        "b = float(input(\"Ingrese la longitud del cateto b: \"))\n",
        "\n",
        "c = math.sqrt(a**2 + b**2)\n",
        "print(\"La hipotenusa es: \" + str(c))"
      ],
      "metadata": {
        "colab": {
          "base_uri": "https://localhost:8080/"
        },
        "id": "sOusXnyEGwN8",
        "outputId": "d24dc289-a350-4b8d-f3d8-75a1f60836cf"
      },
      "execution_count": null,
      "outputs": [
        {
          "output_type": "stream",
          "name": "stdout",
          "text": [
            "Ingrese la longitud del cateto a: 7.5\n",
            "Ingrese la longitud del cateto b: 0\n",
            "La hipotenusa es: 7.5\n"
          ]
        }
      ]
    },
    {
      "cell_type": "markdown",
      "source": [
        "#4\n",
        "Cree un programa que determine qu´e tan r´apido viaja un objeto cuando golpea el suelo. El usuario\n",
        "ingresar´a la altura desde la cual se deja caer el objeto en metros (m). Debido a que el objeto se deja caer,\n",
        "su velocidad inicial es 0m/s. Suponga que la aceleraci´on de la gravedad es de 9, 8m/s2 . Puede usar la\n",
        "f´ormula vf =\n",
        "q\n",
        "v2\n",
        "i + 2ad para calcular la velocidad final, vf , cuando se conocen la velocidad inicial, vi ,\n",
        "la aceleraci´on a, y la distancia d."
      ],
      "metadata": {
        "id": "PTbTBuo9J1MI"
      }
    },
    {
      "cell_type": "markdown",
      "source": [
        "Se pide la altura al usuario y se aplica la fórmula dada por el ejercicio usando la librería math"
      ],
      "metadata": {
        "id": "jHyiZ9bHMAoV"
      }
    },
    {
      "cell_type": "code",
      "source": [
        "#Es necesario descomentar la siguiente linea en caso de no haber importado la librería math en el punto anterior\n",
        "#import math\n",
        "\n",
        "d = float(input(\"Ingrese la altura: \"))\n",
        "a = 9.8\n",
        "Vi = 0\n",
        "Vf = math.sqrt(Vi**2 + 2*a*d )\n",
        "print(\"La velocidad final es: \" + str(Vf))"
      ],
      "metadata": {
        "colab": {
          "base_uri": "https://localhost:8080/"
        },
        "id": "zrlEZiGgJRAL",
        "outputId": "790f3ef5-2c75-4576-f84b-2686f78f285c"
      },
      "execution_count": null,
      "outputs": [
        {
          "output_type": "stream",
          "name": "stdout",
          "text": [
            "Ingrese la altura: 20\n",
            "La velocidad final es: 19.79898987322333\n"
          ]
        }
      ]
    },
    {
      "cell_type": "markdown",
      "source": [
        "#5\n",
        "El a˜no se divide en cuatro estaciones: primavera, verano, oto˜no e invierno. Si bien las fechas exactas en\n",
        "que cambian las estaciones var´ıan un poco de un a˜no a otro debido a la forma en que se construye el\n",
        "calendario, usaremos las siguientes fechas para este ejercicio:\n",
        "![image.png](data:image/png;base64,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)\n",
        "\n",
        "Cree un programa que lea un mes y un d´ıa del usuario. El usuario ingresar´a el nombre del mes como\n",
        "una cadena (String), seguido del d´ıa dentro del mes como un n´umero entero. Luego, su programa deber´ıa\n",
        "mostrar la temporada asociada con la fecha que se ingres´o."
      ],
      "metadata": {
        "id": "Mscaoi4McTXg"
      }
    },
    {
      "cell_type": "markdown",
      "source": [
        "Se le pide el mes al usuario y se pone en minusculas para evitar errores, se pide el día, y finalmente por medio de condicionales se le asigna a cada mes una estación, en caso de que sea uno de los meses en que tiene dos estaciones, se evalúa el día."
      ],
      "metadata": {
        "id": "4-_7yK0lMh09"
      }
    },
    {
      "cell_type": "code",
      "source": [
        "mes_ingresado = input(\"Ingrese el nombre del mes: \").lower()\n",
        "dia = int(input(\"Ingrese el día: \"))\n",
        "estacion = \"\"\n",
        "\n",
        "if mes_ingresado == \"enero\":\n",
        "    estacion = \"Invierno\"\n",
        "elif mes_ingresado == \"febrero\":\n",
        "    estacion = \"Invierno\"\n",
        "elif mes_ingresado == \"marzo\":\n",
        "    if dia < 20:\n",
        "      estacion = \"Invierno\"\n",
        "    else:\n",
        "      estacion = \"Primavera\"\n",
        "elif mes_ingresado == \"abril\":\n",
        "    estacion = \"Primavera\"\n",
        "elif mes_ingresado == \"mayo\":\n",
        "    estacion = \"Primavera\"\n",
        "elif mes_ingresado == \"junio\":\n",
        "    if dia < 21:\n",
        "      estacion = \"Primavera\"\n",
        "    else:\n",
        "      estacion = \"Verano\"\n",
        "elif mes_ingresado == \"julio\":\n",
        "     estacion = \"Verano\"\n",
        "elif mes_ingresado == \"agosto\":\n",
        "     estacion = \"Verano\"\n",
        "elif mes_ingresado == \"septiembre\":\n",
        "    if dia < 22:\n",
        "      estacion = \"Verano\"\n",
        "    else:\n",
        "      estacion = \"Otoño\"\n",
        "elif mes_ingresado == \"octubre\":\n",
        "    estacion = \"Otoño\"\n",
        "elif mes_ingresado == \"noviembre\":\n",
        "    estacion = \"Otoño\"\n",
        "elif mes_ingresado == \"diciembre\":\n",
        "    if dia < 21:\n",
        "      estacion = \"Otoño\"\n",
        "    else:\n",
        "      estacion = \"Invierno\"\n",
        "else:\n",
        "    numero_mes = \"Mes no válido\"\n",
        "\n",
        "print(\"La estación del año es : \" + estacion)\n"
      ],
      "metadata": {
        "colab": {
          "base_uri": "https://localhost:8080/"
        },
        "id": "pxV4eQksKn4l",
        "outputId": "7778f2a7-5b76-45cb-94e7-11110a03d0d3"
      },
      "execution_count": null,
      "outputs": [
        {
          "output_type": "stream",
          "name": "stdout",
          "text": [
            "Ingrese el nombre del mes: agosto\n",
            "Ingrese el día: 2\n",
            "La estación del año es : Verano\n"
          ]
        }
      ]
    },
    {
      "cell_type": "markdown",
      "source": [
        "#6\n",
        "Realice un programa que simule una calculadora b´asica, este puede realizar operaci´on de suma, resta,\n",
        "multiplicaci´on y divisi´on. El programa debe recibir como entrada 2 n´umeros reales y un operador, que\n",
        "puede ser +,−, ∗, /. La salida del programa debe ser el resultado de la operaci´on."
      ],
      "metadata": {
        "id": "jnAkm_pPevNH"
      }
    },
    {
      "cell_type": "markdown",
      "source": [
        "Se le pide al usuario que ingrese un número real, luego el operador por medio de un string, luego el segundo número real, y finalmente se evalúa el operador ingresado por medio de condicionales para aplicar la operación correspondiente."
      ],
      "metadata": {
        "id": "JSiJNelMNON-"
      }
    },
    {
      "cell_type": "code",
      "source": [
        "n1 = float(input(\"Ingrese el primer numero: \"))\n",
        "operacion = input(\"Ingrese la operacion a realizar: \")\n",
        "n2 = float(input(\"Ingrese el segundo numero: \"))\n",
        "resultado = 0\n",
        "\n",
        "if operacion == \"+\":\n",
        "    resultado = n1+n2\n",
        "elif operacion == \"-\":\n",
        "    resultado = n1-n2\n",
        "elif operacion == \"*\":\n",
        "    resultado = n1*n2\n",
        "elif operacion == \"/\":\n",
        "    if n2 != 0:  # Verificación para evitar división por cero\n",
        "        resultado = n1 / n2\n",
        "    else:\n",
        "        resultado = \"Error: División por cero no permitida\"\n",
        "else:\n",
        "    resultado = \"Operador no válido\"\n",
        "\n",
        "print(\"El resultado de la operación es : \", resultado)"
      ],
      "metadata": {
        "colab": {
          "base_uri": "https://localhost:8080/"
        },
        "id": "iWoqXoUhexrd",
        "outputId": "4ffa1564-3faa-4ab1-f0a2-c02a8cfd05ec"
      },
      "execution_count": 1,
      "outputs": [
        {
          "output_type": "stream",
          "name": "stdout",
          "text": [
            "Ingrese el primer numero: 2.5\n",
            "Ingrese la operacion a realizar: +\n",
            "Ingrese el segundo numero: 5\n",
            "El resultado de la operación es :  7.5\n"
          ]
        }
      ]
    },
    {
      "cell_type": "markdown",
      "source": [
        "#7\n",
        "Una palabra o frase es un pal´ındromo si es id´entica hacia adelante y hacia atr´as. Por ejemplo, anna,\n",
        "civic, level y hannah son ejemplos de palabras palindr´omicas. Escriba un programa que lea una cadena\n",
        "(String) del usuario y use un bucle (ciclo) para determinar si es o no un pal´ındromo. Muestre el resultado,\n",
        "incluido un mensaje de salida significativo."
      ],
      "metadata": {
        "id": "ceH05WHmgqeb"
      }
    },
    {
      "cell_type": "markdown",
      "source": [
        "Se le pide al usuario una palabra o frase, por medio de join y split se eliminan los espacios, posteriormente con un for que recorre solo la mitad del largo de la palabra y se compara la primera letra con la última durante todo el ciclo. En caso de que alguna de las letras no coincida, no será un palíndromo"
      ],
      "metadata": {
        "id": "xVKn5mHKN9Zt"
      }
    },
    {
      "cell_type": "code",
      "source": [
        "cadena = input(\"Ingrese una palabra o frase: \").lower()\n",
        "cadena = \"\".join(cadena.split())\n",
        "print(cadena)\n",
        "result = \"La palabra/frase ingresada es un palindromo\"\n",
        "#civic anna\n",
        "for x in range(len(cadena) // 2):\n",
        "  #print(cadena[x] + cadena[len(cadena)-1 - x])\n",
        "  if cadena[x] != cadena[len(cadena)-1 - x]:\n",
        "    result = \"La palabra/frase ingresada no es palindromo\"\n",
        "    break\n",
        "\n",
        "print(result)"
      ],
      "metadata": {
        "colab": {
          "base_uri": "https://localhost:8080/"
        },
        "id": "7j40YHwRgt0o",
        "outputId": "1f803de7-72c5-4470-ae13-a5728ce2707c"
      },
      "execution_count": null,
      "outputs": [
        {
          "output_type": "stream",
          "name": "stdout",
          "text": [
            "Ingrese una palabra o frase: hannah\n",
            "hannah\n",
            "La palabra/frase ingresada es un palindromo\n"
          ]
        }
      ]
    },
    {
      "cell_type": "markdown",
      "source": [
        "#8\n",
        "Escriba un programa que pida al usuario cuantos terminos de la serie Fibonacci desea ver, y luego entregue\n",
        "dichos t´erminos en pantalla. La serie fibonacci presenta la siguiente ecuaci´on:\n",
        "\n",
        "![image.png](data:image/png;base64,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)"
      ],
      "metadata": {
        "id": "ILvvQmH1nI7Y"
      }
    },
    {
      "cell_type": "markdown",
      "source": [
        "Pido al usuario la cantidad de números de la secuencia de Fibonacii que desea obtener, inicializo los valores F0 y F1, y por medio de un ciclo actualizo Fn como la suma de F0 y F1, y muevo un espacio F0 y F1, lo que implica que F1 sea equivalente a Fn y F0 a F1."
      ],
      "metadata": {
        "id": "3sDM0k6KO_cx"
      }
    },
    {
      "cell_type": "code",
      "source": [
        "n = int(input(\"Ingrese la cantidad de numeros de la secuencia que desea ver: \"))\n",
        "\n",
        "F0 = 0\n",
        "F1 = 1\n",
        "\n",
        "for x in range(n):\n",
        "  Fn = F0 + F1\n",
        "  F0 = F1\n",
        "  F1 = Fn\n",
        "  print(Fn)"
      ],
      "metadata": {
        "colab": {
          "base_uri": "https://localhost:8080/"
        },
        "id": "60E9EPTEnM8A",
        "outputId": "bddd8b6e-2b02-43f5-9f0c-4581b20c51d7"
      },
      "execution_count": null,
      "outputs": [
        {
          "output_type": "stream",
          "name": "stdout",
          "text": [
            "Ingrese la cantidad de numeros de la secuencia que desea ver: 7\n",
            "1\n",
            "2\n",
            "3\n",
            "5\n",
            "8\n",
            "13\n",
            "21\n"
          ]
        }
      ]
    },
    {
      "cell_type": "markdown",
      "source": [
        "#9\n",
        "Escribe una funci´on llamada ordenaPositivos(lista), que dada una lista de n´umeros enteros, devuelva una\n",
        "nueva lista con los n´umeros positivos ordenados de menor a mayor, y mantenga los n´umeros negativos en\n",
        "la misma posici´on que la lista original."
      ],
      "metadata": {
        "id": "I-XG9_dzrgr5"
      }
    },
    {
      "cell_type": "markdown",
      "source": [
        "Obtengo la lista ordenada de enteros positivos por medio de los comandos sorted (me permite ordenar el arreglo) y filter (con el cual filtro los numeros mayores a 0, es decir, positivos), aplicados a la lista que se ingresa en el método.\n",
        "Posteriormente recorro la lista original y si encuentro algun numero positivo, lo reemplazo por uno de la lista ordenada de enteros positivos."
      ],
      "metadata": {
        "id": "-b1-tfbBP29Y"
      }
    },
    {
      "cell_type": "code",
      "source": [
        "def ordenaPositivos(lista):\n",
        "\n",
        "  listaEnterosPositivos = []\n",
        "\n",
        "  # for x in range(len(lista)):\n",
        "  #   if  lista[x]>0:\n",
        "  #     listaEnterosPositivos.append(lista[x])\n",
        "\n",
        "  # listaEnterosPositivos = sorted(listaEnterosPositivos)\n",
        "\n",
        "  listaEnterosPositivos = sorted(filter(lambda x: x > 0, lista))\n",
        "\n",
        "  enteroPositivo = 0\n",
        "  for x in range(len(lista)):\n",
        "    if  lista[x]>0:\n",
        "      lista[x] = listaEnterosPositivos[enteroPositivo]\n",
        "      enteroPositivo += 1\n",
        "\n",
        "  return lista\n"
      ],
      "metadata": {
        "id": "Pm5lni_1rnQv"
      },
      "execution_count": null,
      "outputs": []
    },
    {
      "cell_type": "code",
      "source": [
        "mi_lista = []\n",
        "lista_ordenada = ordenaPositivos(mi_lista)\n",
        "print(lista_ordenada)"
      ],
      "metadata": {
        "colab": {
          "base_uri": "https://localhost:8080/"
        },
        "id": "UfMVOlvbvue1",
        "outputId": "3b77d3e7-e12c-4432-c2e5-f79ccf25277d"
      },
      "execution_count": null,
      "outputs": [
        {
          "output_type": "stream",
          "name": "stdout",
          "text": [
            "[]\n"
          ]
        }
      ]
    },
    {
      "cell_type": "markdown",
      "source": [
        "#10\n",
        "Escriba una funci´on esBisiesto() que determine si un a˜no determinado es un a˜no bisiesto. Un a˜no bisiesto\n",
        "es divisible por 4, pero no por 100. Tambi´en es divisible por 400."
      ],
      "metadata": {
        "id": "5Swx4blO2xqI"
      }
    },
    {
      "cell_type": "markdown",
      "source": [
        "Como pide el enunciado, recibo un valor y evalúo si es divisible por 4 y por 100, o si es divisible por 400"
      ],
      "metadata": {
        "id": "XUzSWM4VREAM"
      }
    },
    {
      "cell_type": "code",
      "source": [
        "def esBisiesto(x):\n",
        "  if ((x%4 == 0 and x%100 != 0) or x%400 == 0):\n",
        "    return True\n",
        "  else:\n",
        "    return False"
      ],
      "metadata": {
        "id": "MVnG5SNT2wyS"
      },
      "execution_count": null,
      "outputs": []
    },
    {
      "cell_type": "code",
      "source": [
        "x = int(input(\"Ingrese un año: \"))\n",
        "if esBisiesto(x):\n",
        "    print(x, \" es un año bisiesto.\")\n",
        "else:\n",
        "    print(x, \" no es un año bisiesto.\")"
      ],
      "metadata": {
        "colab": {
          "base_uri": "https://localhost:8080/"
        },
        "id": "GXbyLCGM3cbB",
        "outputId": "a53523bb-2511-4209-9cef-0c8b4cc97e6d"
      },
      "execution_count": null,
      "outputs": [
        {
          "output_type": "stream",
          "name": "stdout",
          "text": [
            "Ingrese un año: 2021\n",
            "2021  no es un año bisiesto.\n"
          ]
        }
      ]
    }
  ]
}